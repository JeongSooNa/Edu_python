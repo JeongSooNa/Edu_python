{
 "cells": [
  {
   "cell_type": "code",
   "execution_count": 1,
   "id": "8a54c37e-17e2-4eed-96d3-3cf06925897f",
   "metadata": {},
   "outputs": [
    {
     "name": "stdout",
     "output_type": "stream",
     "text": [
      "Hello World\n"
     ]
    }
   ],
   "source": [
    "# 2025.07.05 수업\n",
    "# print hello world\n",
    "print(\"Hello World\")"
   ]
  },
  {
   "cell_type": "code",
   "execution_count": 2,
   "id": "7694a42b-2553-437c-b3b4-e2f61982388e",
   "metadata": {},
   "outputs": [
    {
     "name": "stdout",
     "output_type": "stream",
     "text": [
      "1\n"
     ]
    }
   ],
   "source": [
    "a = 1 # 숫자 자료형\n",
    "print(a)"
   ]
  },
  {
   "cell_type": "code",
   "execution_count": 3,
   "id": "e36ead70-09bf-4639-9830-7e0db8add6e1",
   "metadata": {},
   "outputs": [
    {
     "name": "stdout",
     "output_type": "stream",
     "text": [
      "1\n"
     ]
    }
   ],
   "source": [
    "b = \"1\"\n",
    "print(b)"
   ]
  },
  {
   "cell_type": "code",
   "execution_count": 4,
   "id": "feba5021-0e10-4036-b94c-9dd609659da5",
   "metadata": {},
   "outputs": [
    {
     "data": {
      "text/plain": [
       "int"
      ]
     },
     "execution_count": 4,
     "metadata": {},
     "output_type": "execute_result"
    }
   ],
   "source": [
    "type(a)"
   ]
  },
  {
   "cell_type": "code",
   "execution_count": 5,
   "id": "24ceeee5-b08d-41f1-aed0-af9e28a07e0f",
   "metadata": {},
   "outputs": [
    {
     "data": {
      "text/plain": [
       "str"
      ]
     },
     "execution_count": 5,
     "metadata": {},
     "output_type": "execute_result"
    }
   ],
   "source": [
    "type(b)"
   ]
  },
  {
   "cell_type": "code",
   "execution_count": 6,
   "id": "9632b38b-fa49-4666-9df5-3f125b754d86",
   "metadata": {},
   "outputs": [
    {
     "data": {
      "text/plain": [
       "1"
      ]
     },
     "execution_count": 6,
     "metadata": {},
     "output_type": "execute_result"
    }
   ],
   "source": [
    "a"
   ]
  },
  {
   "cell_type": "code",
   "execution_count": 7,
   "id": "d1252b25-a77d-4132-a108-01f83fd8063d",
   "metadata": {},
   "outputs": [
    {
     "data": {
      "text/plain": [
       "'1'"
      ]
     },
     "execution_count": 7,
     "metadata": {},
     "output_type": "execute_result"
    }
   ],
   "source": [
    "str(a)"
   ]
  },
  {
   "cell_type": "code",
   "execution_count": 8,
   "id": "1d3a3272-c93c-416c-8880-4b2fb7ed3783",
   "metadata": {},
   "outputs": [
    {
     "data": {
      "text/plain": [
       "1"
      ]
     },
     "execution_count": 8,
     "metadata": {},
     "output_type": "execute_result"
    }
   ],
   "source": [
    "int(b)"
   ]
  },
  {
   "cell_type": "code",
   "execution_count": 9,
   "id": "012325ff-c510-4bf6-bd9f-4054193144ea",
   "metadata": {},
   "outputs": [],
   "source": [
    "# list\n",
    "a = [1,2,3,4,5]"
   ]
  },
  {
   "cell_type": "code",
   "execution_count": 10,
   "id": "2c80fadf-1693-4120-aeea-342ffa7e2304",
   "metadata": {},
   "outputs": [
    {
     "data": {
      "text/plain": [
       "[1, 2, 3, 4, 5]"
      ]
     },
     "execution_count": 10,
     "metadata": {},
     "output_type": "execute_result"
    }
   ],
   "source": [
    "a"
   ]
  },
  {
   "cell_type": "code",
   "execution_count": 11,
   "id": "07dd82dc-a44c-40cb-b852-26c33f73b480",
   "metadata": {},
   "outputs": [],
   "source": [
    "a[4] = 7\n",
    "#a.insert(4,7)"
   ]
  },
  {
   "cell_type": "code",
   "execution_count": 12,
   "id": "66406202-b275-4e37-8654-7a021f2eff64",
   "metadata": {},
   "outputs": [
    {
     "data": {
      "text/plain": [
       "[1, 2, 3, 4, 7]"
      ]
     },
     "execution_count": 12,
     "metadata": {},
     "output_type": "execute_result"
    }
   ],
   "source": [
    "a"
   ]
  },
  {
   "cell_type": "code",
   "execution_count": 13,
   "id": "4239bc3a-0f23-4b47-9330-8172fc29ed4a",
   "metadata": {},
   "outputs": [
    {
     "data": {
      "text/plain": [
       "[2, 3]"
      ]
     },
     "execution_count": 13,
     "metadata": {},
     "output_type": "execute_result"
    }
   ],
   "source": [
    "a[1:3]"
   ]
  },
  {
   "cell_type": "code",
   "execution_count": 14,
   "id": "a021ce54-2a7c-43f0-aa4d-76e7c1a003ce",
   "metadata": {},
   "outputs": [],
   "source": [
    "s = {1,1,1,2,2,2,1,1,2,2,2,3,3}"
   ]
  },
  {
   "cell_type": "code",
   "execution_count": 15,
   "id": "3b1424cc-18e1-4f1c-925b-b842877960db",
   "metadata": {},
   "outputs": [
    {
     "data": {
      "text/plain": [
       "{1, 2, 3}"
      ]
     },
     "execution_count": 15,
     "metadata": {},
     "output_type": "execute_result"
    }
   ],
   "source": [
    "s"
   ]
  },
  {
   "cell_type": "code",
   "execution_count": 16,
   "id": "313722a5-ebd7-41f9-9397-6b3a773c07f5",
   "metadata": {},
   "outputs": [],
   "source": [
    "a = {\"name\":\"JS\",\"age\":32}"
   ]
  },
  {
   "cell_type": "code",
   "execution_count": 17,
   "id": "6b138202-ceb1-4fc8-a30f-bce5711ec737",
   "metadata": {},
   "outputs": [
    {
     "data": {
      "text/plain": [
       "{'name': 'JS', 'age': 32}"
      ]
     },
     "execution_count": 17,
     "metadata": {},
     "output_type": "execute_result"
    }
   ],
   "source": [
    "a"
   ]
  },
  {
   "cell_type": "code",
   "execution_count": 18,
   "id": "5655854d-cd47-428f-8039-c5a761522033",
   "metadata": {},
   "outputs": [
    {
     "data": {
      "text/plain": [
       "3"
      ]
     },
     "execution_count": 18,
     "metadata": {},
     "output_type": "execute_result"
    }
   ],
   "source": [
    "1+2"
   ]
  },
  {
   "cell_type": "code",
   "execution_count": 19,
   "id": "6f1ad1ed-b3e4-4622-b90e-b2d696df7035",
   "metadata": {},
   "outputs": [
    {
     "data": {
      "text/plain": [
       "-1"
      ]
     },
     "execution_count": 19,
     "metadata": {},
     "output_type": "execute_result"
    }
   ],
   "source": [
    "1-2"
   ]
  },
  {
   "cell_type": "code",
   "execution_count": 20,
   "id": "5906daea-9ed2-4447-bb45-1ebd1fff91d5",
   "metadata": {},
   "outputs": [
    {
     "data": {
      "text/plain": [
       "2"
      ]
     },
     "execution_count": 20,
     "metadata": {},
     "output_type": "execute_result"
    }
   ],
   "source": [
    "1*2"
   ]
  },
  {
   "cell_type": "code",
   "execution_count": 21,
   "id": "64333d0b-c5b6-47c6-9c3e-cefa58c387db",
   "metadata": {},
   "outputs": [
    {
     "data": {
      "text/plain": [
       "0.5"
      ]
     },
     "execution_count": 21,
     "metadata": {},
     "output_type": "execute_result"
    }
   ],
   "source": [
    "1/2"
   ]
  },
  {
   "cell_type": "code",
   "execution_count": 22,
   "id": "7a62c8f9-9bd3-4c91-8567-44f4f47c230b",
   "metadata": {},
   "outputs": [],
   "source": [
    "x = 1\n",
    "y = 2"
   ]
  },
  {
   "cell_type": "code",
   "execution_count": 23,
   "id": "f2411f0a-7aaa-4e33-913f-b2b796f06c2a",
   "metadata": {},
   "outputs": [
    {
     "data": {
      "text/plain": [
       "3"
      ]
     },
     "execution_count": 23,
     "metadata": {},
     "output_type": "execute_result"
    }
   ],
   "source": [
    "x+y"
   ]
  },
  {
   "cell_type": "code",
   "execution_count": 24,
   "id": "2a130a09-73c6-4435-b5f2-eccc32e266d7",
   "metadata": {},
   "outputs": [
    {
     "data": {
      "text/plain": [
       "0.6"
      ]
     },
     "execution_count": 24,
     "metadata": {},
     "output_type": "execute_result"
    }
   ],
   "source": [
    "3/5"
   ]
  },
  {
   "cell_type": "code",
   "execution_count": 25,
   "id": "9d7b26cd-f091-49ed-9535-e45cfec1dd8b",
   "metadata": {},
   "outputs": [
    {
     "data": {
      "text/plain": [
       "0"
      ]
     },
     "execution_count": 25,
     "metadata": {},
     "output_type": "execute_result"
    }
   ],
   "source": [
    "3//5"
   ]
  },
  {
   "cell_type": "code",
   "execution_count": 26,
   "id": "80c84acd-fb9d-4666-8153-4694fd61545f",
   "metadata": {},
   "outputs": [
    {
     "data": {
      "text/plain": [
       "3"
      ]
     },
     "execution_count": 26,
     "metadata": {},
     "output_type": "execute_result"
    }
   ],
   "source": [
    "3%5"
   ]
  },
  {
   "cell_type": "code",
   "execution_count": 27,
   "id": "5d359413-2d02-41f7-bebf-e32d9fabb59c",
   "metadata": {},
   "outputs": [
    {
     "data": {
      "text/plain": [
       "8"
      ]
     },
     "execution_count": 27,
     "metadata": {},
     "output_type": "execute_result"
    }
   ],
   "source": [
    "2**3"
   ]
  },
  {
   "cell_type": "code",
   "execution_count": 28,
   "id": "d1d3d2b7-838a-4343-a80c-2d7fcd8cb3b0",
   "metadata": {},
   "outputs": [
    {
     "data": {
      "text/plain": [
       "8"
      ]
     },
     "execution_count": 28,
     "metadata": {},
     "output_type": "execute_result"
    }
   ],
   "source": [
    "2*2*2"
   ]
  },
  {
   "cell_type": "code",
   "execution_count": 29,
   "id": "625ded4a-a63b-4e1d-a6ee-3cf9152ef4c3",
   "metadata": {},
   "outputs": [
    {
     "data": {
      "text/plain": [
       "'ab'"
      ]
     },
     "execution_count": 29,
     "metadata": {},
     "output_type": "execute_result"
    }
   ],
   "source": [
    "\"a\"+\"b\""
   ]
  },
  {
   "cell_type": "code",
   "execution_count": 30,
   "id": "41cbcd56-6149-44cc-8b9d-88611fa46131",
   "metadata": {},
   "outputs": [
    {
     "data": {
      "text/plain": [
       "'aaa'"
      ]
     },
     "execution_count": 30,
     "metadata": {},
     "output_type": "execute_result"
    }
   ],
   "source": [
    "\"a\"*3"
   ]
  },
  {
   "cell_type": "code",
   "execution_count": 31,
   "id": "38a32a37-346d-4a37-99ec-42a3d84a8cef",
   "metadata": {},
   "outputs": [],
   "source": [
    "a = 0"
   ]
  },
  {
   "cell_type": "code",
   "execution_count": 32,
   "id": "7847bcdf-3661-4b79-a2b6-f6d5c3948003",
   "metadata": {},
   "outputs": [
    {
     "data": {
      "text/plain": [
       "0"
      ]
     },
     "execution_count": 32,
     "metadata": {},
     "output_type": "execute_result"
    }
   ],
   "source": [
    "a"
   ]
  },
  {
   "cell_type": "code",
   "execution_count": 33,
   "id": "c834594f-ec3d-4ebd-94b7-a4f2896a6ddd",
   "metadata": {},
   "outputs": [],
   "source": [
    "a += 1"
   ]
  },
  {
   "cell_type": "code",
   "execution_count": 34,
   "id": "16e14235-fca4-4cc7-83f0-9097de36305f",
   "metadata": {},
   "outputs": [
    {
     "data": {
      "text/plain": [
       "1"
      ]
     },
     "execution_count": 34,
     "metadata": {},
     "output_type": "execute_result"
    }
   ],
   "source": [
    "a"
   ]
  },
  {
   "cell_type": "code",
   "execution_count": 35,
   "id": "0c44c580-91e2-47ad-9e29-4aa57c201194",
   "metadata": {},
   "outputs": [],
   "source": [
    "a = 1\n",
    "if a < 0: # True/False\n",
    "    print(\"a는 음수입니다.\")"
   ]
  },
  {
   "cell_type": "code",
   "execution_count": 36,
   "id": "f73a9e1c-9eca-4626-8041-f4fd917bc7d9",
   "metadata": {},
   "outputs": [
    {
     "data": {
      "text/plain": [
       "False"
      ]
     },
     "execution_count": 36,
     "metadata": {},
     "output_type": "execute_result"
    }
   ],
   "source": [
    "a < 0"
   ]
  },
  {
   "cell_type": "code",
   "execution_count": 37,
   "id": "6cabe857-2a6a-4363-bc50-0a9b55b377d7",
   "metadata": {},
   "outputs": [
    {
     "name": "stdout",
     "output_type": "stream",
     "text": [
      "a는 음수\n",
      "a는 음수\n"
     ]
    }
   ],
   "source": [
    "a = -1\n",
    "if a > 0:\n",
    "    print(\"a는 양수\")\n",
    "elif a < 0:\n",
    "    print(\"a는 음수\")\n",
    "else:\n",
    "    print(\"a는 0\")\n",
    "\n",
    "\n",
    "if a > 0:\n",
    "    print(\"a는 양수\")\n",
    "if a < 0:\n",
    "    print(\"a는 음수\")\n",
    "if a == 0:\n",
    "    print(\"a는 0\")"
   ]
  },
  {
   "cell_type": "code",
   "execution_count": 38,
   "id": "321c960c-d75f-49e3-9e81-7733ca122b1a",
   "metadata": {},
   "outputs": [
    {
     "name": "stdout",
     "output_type": "stream",
     "text": [
      "a와 b 둘 중 10과 같은 것이 있다.\n"
     ]
    }
   ],
   "source": [
    "a = 10\n",
    "b = 20\n",
    "# if a == 10 and b == 20:\n",
    "#     print(\"a는 10이고 b는 20이다.\")\n",
    "\n",
    "if a == 10 or b == 10:\n",
    "    print(\"a와 b 둘 중 10과 같은 것이 있다.\")"
   ]
  },
  {
   "cell_type": "code",
   "execution_count": 39,
   "id": "4234be44-6813-4bb4-a410-eec037f157ae",
   "metadata": {},
   "outputs": [
    {
     "name": "stdout",
     "output_type": "stream",
     "text": [
      "0\n",
      "1\n",
      "2\n",
      "3\n",
      "4\n",
      "5\n",
      "6\n",
      "7\n",
      "8\n",
      "9\n"
     ]
    }
   ],
   "source": [
    "# while , for\n",
    "\n",
    "count = 0\n",
    "\n",
    "while True:\n",
    "    print(count)\n",
    "    count += 1\n",
    "    if count == 10:\n",
    "        break # break, continue"
   ]
  },
  {
   "cell_type": "code",
   "execution_count": 40,
   "id": "8a8b7d31-e3c9-4e7f-b062-306717f3783d",
   "metadata": {},
   "outputs": [
    {
     "name": "stdout",
     "output_type": "stream",
     "text": [
      "0\n",
      "1\n",
      "2\n",
      "3\n",
      "4\n",
      "5\n",
      "6\n",
      "7\n",
      "8\n",
      "9\n"
     ]
    }
   ],
   "source": [
    "for i in range(0,10):\n",
    "    print(i)"
   ]
  },
  {
   "cell_type": "code",
   "execution_count": 41,
   "id": "8e79d9a2-5a32-488c-b53e-88ccdbc806bb",
   "metadata": {},
   "outputs": [
    {
     "name": "stdout",
     "output_type": "stream",
     "text": [
      "1\n",
      "2\n",
      "3\n",
      "4\n",
      "5\n"
     ]
    }
   ],
   "source": [
    "for i in [1,2,3,4,5]:\n",
    "    print(i)"
   ]
  },
  {
   "cell_type": "code",
   "execution_count": 42,
   "id": "2fcab4c8-7f3d-4396-8dd4-ec71cd9885a8",
   "metadata": {},
   "outputs": [
    {
     "name": "stdout",
     "output_type": "stream",
     "text": [
      "짱구\n",
      "철수\n",
      "유리\n",
      "맹구\n",
      "훈이\n"
     ]
    }
   ],
   "source": [
    "for i in [\"짱구\",\"철수\",\"유리\",\"맹구\",\"훈이\"]:\n",
    "    print(i)"
   ]
  },
  {
   "cell_type": "code",
   "execution_count": 51,
   "id": "cd5319d9-7359-4d73-bf18-076d06f444e9",
   "metadata": {},
   "outputs": [
    {
     "name": "stdout",
     "output_type": "stream",
     "text": [
      "1\n",
      "2\n"
     ]
    }
   ],
   "source": [
    "for i in [1,2,3,4,5]:\n",
    "    if i == 3:\n",
    "        break\n",
    "    print(i)"
   ]
  },
  {
   "cell_type": "code",
   "execution_count": 57,
   "id": "5f2af905-9997-43b9-afe8-1a3ee4046e4c",
   "metadata": {},
   "outputs": [],
   "source": [
    "a = \"Hello\"\n",
    "\n",
    "def plus_one(num):\n",
    "    result = num + 1\n",
    "    print(a)\n",
    "    return result\n"
   ]
  },
  {
   "cell_type": "code",
   "execution_count": 58,
   "id": "1284f1d6-0d9f-4998-8d0f-4aa24d9938c6",
   "metadata": {},
   "outputs": [
    {
     "name": "stdout",
     "output_type": "stream",
     "text": [
      "Hello\n"
     ]
    },
    {
     "data": {
      "text/plain": [
       "4"
      ]
     },
     "execution_count": 58,
     "metadata": {},
     "output_type": "execute_result"
    }
   ],
   "source": [
    "plus_one(3)"
   ]
  },
  {
   "cell_type": "code",
   "execution_count": 59,
   "id": "018e933b-4237-4556-b5ce-9bcd635e21f9",
   "metadata": {},
   "outputs": [],
   "source": [
    "def solution(n):\n",
    "    # 반복문, 조건문, 연산 %(나머지)\n",
    "    answer = 0\n",
    "    for i in range(n+1):\n",
    "        if i % 2 == 0:\n",
    "            answer += i\n",
    "    return answer"
   ]
  },
  {
   "cell_type": "code",
   "execution_count": 60,
   "id": "5ffcab5d-42da-4ed4-b2ea-6979c1eccd70",
   "metadata": {},
   "outputs": [
    {
     "data": {
      "text/plain": [
       "30"
      ]
     },
     "execution_count": 60,
     "metadata": {},
     "output_type": "execute_result"
    }
   ],
   "source": [
    "solution(10)"
   ]
  },
  {
   "cell_type": "code",
   "execution_count": 61,
   "id": "37def08f-4eab-4340-81de-6ab2d2f3ce49",
   "metadata": {},
   "outputs": [],
   "source": [
    "import os"
   ]
  },
  {
   "cell_type": "code",
   "execution_count": 62,
   "id": "40cccdf6-df3b-42a0-b4c8-1ee804a8b3fb",
   "metadata": {},
   "outputs": [
    {
     "data": {
      "text/plain": [
       "['.git',\n",
       " '.ipynb_checkpoints',\n",
       " '0621',\n",
       " 'ARGV',\n",
       " 'data.csv',\n",
       " 'data2.csv',\n",
       " 'day_1.ipynb',\n",
       " 'day_2.ipynb',\n",
       " 'day_3.ipynb',\n",
       " 'day_4.ipynb',\n",
       " 'day_5.ipynb',\n",
       " 'ping_test',\n",
       " 'README.md',\n",
       " 'read_xlsx',\n",
       " 'test.py']"
      ]
     },
     "execution_count": 62,
     "metadata": {},
     "output_type": "execute_result"
    }
   ],
   "source": [
    "os.listdir()"
   ]
  },
  {
   "cell_type": "code",
   "execution_count": null,
   "id": "94fc6c9c-5875-4b05-a8c2-420963b69c7c",
   "metadata": {},
   "outputs": [],
   "source": []
  }
 ],
 "metadata": {
  "kernelspec": {
   "display_name": "Python 3 (ipykernel)",
   "language": "python",
   "name": "python3"
  },
  "language_info": {
   "codemirror_mode": {
    "name": "ipython",
    "version": 3
   },
   "file_extension": ".py",
   "mimetype": "text/x-python",
   "name": "python",
   "nbconvert_exporter": "python",
   "pygments_lexer": "ipython3",
   "version": "3.12.7"
  }
 },
 "nbformat": 4,
 "nbformat_minor": 5
}
