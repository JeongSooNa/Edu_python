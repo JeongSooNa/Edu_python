{
 "cells": [
  {
   "cell_type": "code",
   "execution_count": 107,
   "id": "25baf46f-09ec-4d29-ab79-5b01339d9f40",
   "metadata": {},
   "outputs": [],
   "source": [
    "#!pip install selenium webdriver-manager"
   ]
  },
  {
   "cell_type": "code",
   "execution_count": 77,
   "id": "57bb0a70-e23a-4b9a-8457-5c5f9d49243d",
   "metadata": {},
   "outputs": [
    {
     "name": "stdout",
     "output_type": "stream",
     "text": [
      "hello\n"
     ]
    }
   ],
   "source": [
    "from selenium import webdriver\n",
    "from selenium.webdriver.chrome.service import Service\n",
    "from selenium.webdriver.common.by import By\n",
    "from selenium.webdriver.common.keys import Keys\n",
    "from webdriver_manager.chrome import ChromeDriverManager\n",
    "from bs4 import BeautifulSoup\n",
    "import time"
   ]
  },
  {
   "cell_type": "code",
   "execution_count": 121,
   "id": "4bd887cf-1b62-44e3-a009-aa3975cf4636",
   "metadata": {},
   "outputs": [],
   "source": [
    "driver = webdriver.Chrome(service=Service(ChromeDriverManager().install()))\n",
    "driver.implicitly_wait(10)"
   ]
  },
  {
   "cell_type": "code",
   "execution_count": 122,
   "id": "ee6d7a59-843b-428e-8a5d-b686a9aec9f5",
   "metadata": {},
   "outputs": [],
   "source": [
    "driver.get(\"https://www.naver.com\")"
   ]
  },
  {
   "cell_type": "code",
   "execution_count": 123,
   "id": "fb1e33a5-8afc-43cf-b1af-d9879770527a",
   "metadata": {},
   "outputs": [],
   "source": [
    "search_box = driver.find_element(By.CSS_SELECTOR, \"input#query.search_input\")"
   ]
  },
  {
   "cell_type": "code",
   "execution_count": 124,
   "id": "e123989e-693d-4878-be69-65e82a158f98",
   "metadata": {},
   "outputs": [],
   "source": [
    "search_box.send_keys(\"재생에너지\")"
   ]
  },
  {
   "cell_type": "code",
   "execution_count": 125,
   "id": "5bf7f2fb-20b0-45ed-bd3d-315b674447ac",
   "metadata": {},
   "outputs": [],
   "source": [
    "search_box.send_keys(Keys.ENTER)"
   ]
  },
  {
   "cell_type": "code",
   "execution_count": 126,
   "id": "25f5f7c1-b109-41ae-a855-bccd06dc48b8",
   "metadata": {},
   "outputs": [],
   "source": [
    "news_tab = driver.find_element(By.LINK_TEXT, \"뉴스\")\n",
    "news_tab.click()\n",
    "time.sleep(2)"
   ]
  },
  {
   "cell_type": "code",
   "execution_count": 127,
   "id": "ae014784-57f8-4b80-9806-c7385895c401",
   "metadata": {},
   "outputs": [],
   "source": [
    "html = driver.page_source\n",
    "soup = BeautifulSoup(html,\"lxml\")"
   ]
  },
  {
   "cell_type": "code",
   "execution_count": 108,
   "id": "352ad7ce-bba2-42e5-9f3e-0b1068a82d30",
   "metadata": {},
   "outputs": [],
   "source": [
    "# <span class=\"sds-comps-text sds-comps-text-ellipsis sds-comps-text-ellipsis-1 sds-comps-text-type-headline1\">챗GPT '에이전트' 기능 써보니 \"절반의 성공... 노력은 가상하네\"</span>"
   ]
  },
  {
   "cell_type": "code",
   "execution_count": 128,
   "id": "cc7889b0-3f25-4716-a034-2c1129ef550d",
   "metadata": {},
   "outputs": [
    {
     "name": "stdout",
     "output_type": "stream",
     "text": [
      "\"재생에너지PPA 문턱 낮아져 중소기업 RE100 촉진\"\n",
      "KT,재생에너지직접PPA 본격화…제조업 RE100 대응 지원\n",
      "KT, 산업단지재생에너지직접 전력공급 본격화\n",
      "전기안전공사-아세안, 신재생에너지안전 공동보고서 발간\n",
      "환경장관, 바이오가스 생산시설 방문…\"재생에너지활성화\"\n",
      "새만금 산단, 신재생에너지기반시설 허용\n",
      "재생에너지로 크는 제주감귤…RE100 농업 확대\n",
      "KT, 산업단지재생에너지직접 전력공급 본격..\"제조업 RE100 지원\"\n",
      "트럼프 보조금 폐지로 美재생에너지투자 올스톱\n",
      "신재생에너지발전용 가축분뇨 고체연료 생산 공장 착공\n"
     ]
    }
   ],
   "source": [
    "title = soup.select(\"span.sds-comps-text-type-headline1\")\n",
    "for i in title:\n",
    "    print(i.get_text(strip=True))"
   ]
  },
  {
   "cell_type": "code",
   "execution_count": 129,
   "id": "973e4973-b881-4eae-a708-092b06bb5156",
   "metadata": {},
   "outputs": [
    {
     "data": {
      "text/plain": [
       "10"
      ]
     },
     "execution_count": 129,
     "metadata": {},
     "output_type": "execute_result"
    }
   ],
   "source": [
    "len(title)"
   ]
  }
 ],
 "metadata": {
  "kernelspec": {
   "display_name": "Python 3 (ipykernel)",
   "language": "python",
   "name": "python3"
  },
  "language_info": {
   "codemirror_mode": {
    "name": "ipython",
    "version": 3
   },
   "file_extension": ".py",
   "mimetype": "text/x-python",
   "name": "python",
   "nbconvert_exporter": "python",
   "pygments_lexer": "ipython3",
   "version": "3.12.7"
  }
 },
 "nbformat": 4,
 "nbformat_minor": 5
}
