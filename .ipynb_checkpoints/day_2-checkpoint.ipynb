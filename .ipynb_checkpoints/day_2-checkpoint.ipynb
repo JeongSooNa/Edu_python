{
 "cells": [
  {
   "cell_type": "code",
   "execution_count": 1,
   "id": "90a7be75-f4ab-462c-84c7-c1d0ee712849",
   "metadata": {},
   "outputs": [
    {
     "name": "stdout",
     "output_type": "stream",
     "text": [
      "Hello World\n"
     ]
    }
   ],
   "source": [
    "print(\"Hello World\")"
   ]
  },
  {
   "cell_type": "code",
   "execution_count": 3,
   "id": "ed338739-3691-44ae-a308-3bc92e068c8c",
   "metadata": {},
   "outputs": [
    {
     "name": "stdout",
     "output_type": "stream",
     "text": [
      "Python\n"
     ]
    }
   ],
   "source": [
    "# Python 출력\n",
    "print(\"Python\")"
   ]
  },
  {
   "cell_type": "code",
   "execution_count": 4,
   "id": "87009ee8-afcb-4f0b-a40a-cc0e2a48649f",
   "metadata": {},
   "outputs": [],
   "source": [
    "# 변수\n",
    "a = \"apple\""
   ]
  },
  {
   "cell_type": "code",
   "execution_count": 5,
   "id": "76084818-1019-47a3-8720-212083399a1d",
   "metadata": {},
   "outputs": [
    {
     "name": "stdout",
     "output_type": "stream",
     "text": [
      "apple\n"
     ]
    }
   ],
   "source": [
    "print(a)"
   ]
  },
  {
   "cell_type": "code",
   "execution_count": 6,
   "id": "b8cdb0fa-0590-470a-9687-be5e8930f94b",
   "metadata": {},
   "outputs": [],
   "source": [
    "a = \"banana\""
   ]
  },
  {
   "cell_type": "code",
   "execution_count": 7,
   "id": "fd7cbb38-8a78-477c-94d8-7d7d92d7c970",
   "metadata": {},
   "outputs": [
    {
     "name": "stdout",
     "output_type": "stream",
     "text": [
      "banana\n"
     ]
    }
   ],
   "source": [
    "print(a)"
   ]
  },
  {
   "cell_type": "code",
   "execution_count": 8,
   "id": "5ec38470-4fd6-4f72-a217-9b2415a84819",
   "metadata": {},
   "outputs": [],
   "source": [
    "a = 1"
   ]
  },
  {
   "cell_type": "code",
   "execution_count": 9,
   "id": "7a8a9a97-8e9a-42f8-8307-31e90d02c3e3",
   "metadata": {},
   "outputs": [
    {
     "data": {
      "text/plain": [
       "1"
      ]
     },
     "execution_count": 9,
     "metadata": {},
     "output_type": "execute_result"
    }
   ],
   "source": [
    "a"
   ]
  },
  {
   "cell_type": "code",
   "execution_count": 10,
   "id": "f58daa1f-dd5c-493c-a7e1-7d0006812d81",
   "metadata": {},
   "outputs": [
    {
     "data": {
      "text/plain": [
       "int"
      ]
     },
     "execution_count": 10,
     "metadata": {},
     "output_type": "execute_result"
    }
   ],
   "source": [
    "type(1)"
   ]
  },
  {
   "cell_type": "code",
   "execution_count": 11,
   "id": "0f025d05-3992-4257-8f04-a6f7f8b31c47",
   "metadata": {},
   "outputs": [
    {
     "data": {
      "text/plain": [
       "str"
      ]
     },
     "execution_count": 11,
     "metadata": {},
     "output_type": "execute_result"
    }
   ],
   "source": [
    "type(\"1\")"
   ]
  },
  {
   "cell_type": "code",
   "execution_count": 13,
   "id": "eb6364bc-11e6-4d04-9749-1205fa33f5a2",
   "metadata": {},
   "outputs": [
    {
     "data": {
      "text/plain": [
       "bool"
      ]
     },
     "execution_count": 13,
     "metadata": {},
     "output_type": "execute_result"
    }
   ],
   "source": [
    "type(False)"
   ]
  },
  {
   "cell_type": "code",
   "execution_count": 14,
   "id": "70ef208d-f183-4f02-8d86-ed6dfeba7b41",
   "metadata": {},
   "outputs": [
    {
     "data": {
      "text/plain": [
       "NoneType"
      ]
     },
     "execution_count": 14,
     "metadata": {},
     "output_type": "execute_result"
    }
   ],
   "source": [
    "type(None)"
   ]
  },
  {
   "cell_type": "code",
   "execution_count": 15,
   "id": "322476ba-dd13-4d3d-a46c-3780cd9a7c1a",
   "metadata": {},
   "outputs": [],
   "source": [
    "a = 1"
   ]
  },
  {
   "cell_type": "code",
   "execution_count": 16,
   "id": "9014b05b-f914-4f8d-a5e5-adcf56f5b7d0",
   "metadata": {},
   "outputs": [
    {
     "data": {
      "text/plain": [
       "int"
      ]
     },
     "execution_count": 16,
     "metadata": {},
     "output_type": "execute_result"
    }
   ],
   "source": [
    "type(a)"
   ]
  },
  {
   "cell_type": "code",
   "execution_count": 18,
   "id": "35564623-2da6-4c90-8c30-8ee3abc249ea",
   "metadata": {},
   "outputs": [],
   "source": [
    "a = str(1)"
   ]
  },
  {
   "cell_type": "code",
   "execution_count": 19,
   "id": "f81fcd15-642e-4af9-8d3a-52590384476c",
   "metadata": {},
   "outputs": [
    {
     "data": {
      "text/plain": [
       "str"
      ]
     },
     "execution_count": 19,
     "metadata": {},
     "output_type": "execute_result"
    }
   ],
   "source": [
    "type(a)"
   ]
  },
  {
   "cell_type": "code",
   "execution_count": 20,
   "id": "d8540f29-99ac-471a-8da3-41fd00e57007",
   "metadata": {},
   "outputs": [],
   "source": [
    "a = [1,2,3,4,5]"
   ]
  },
  {
   "cell_type": "code",
   "execution_count": 21,
   "id": "8deb0fd2-bfbf-4f09-acaf-11148bd4804c",
   "metadata": {},
   "outputs": [
    {
     "data": {
      "text/plain": [
       "[1, 2, 3, 4, 5]"
      ]
     },
     "execution_count": 21,
     "metadata": {},
     "output_type": "execute_result"
    }
   ],
   "source": [
    "a"
   ]
  },
  {
   "cell_type": "code",
   "execution_count": 22,
   "id": "0fafdb4f-68c6-460d-9ae8-f305a6d69e6c",
   "metadata": {},
   "outputs": [
    {
     "data": {
      "text/plain": [
       "list"
      ]
     },
     "execution_count": 22,
     "metadata": {},
     "output_type": "execute_result"
    }
   ],
   "source": [
    "type(a)"
   ]
  },
  {
   "cell_type": "code",
   "execution_count": 26,
   "id": "1146a80a-44ca-4a6f-ada5-f3de2c307e9c",
   "metadata": {},
   "outputs": [],
   "source": [
    "a[3] = 6"
   ]
  },
  {
   "cell_type": "code",
   "execution_count": 27,
   "id": "a4993d04-4ac6-4bae-9e4a-ae19b56c95e5",
   "metadata": {},
   "outputs": [
    {
     "data": {
      "text/plain": [
       "[1, 2, 3, 6, 5]"
      ]
     },
     "execution_count": 27,
     "metadata": {},
     "output_type": "execute_result"
    }
   ],
   "source": [
    "a"
   ]
  },
  {
   "cell_type": "code",
   "execution_count": 29,
   "id": "a32f6d7d-1d90-4d3f-89a1-14ce5c12afb3",
   "metadata": {},
   "outputs": [
    {
     "data": {
      "text/plain": [
       "[2, 3]"
      ]
     },
     "execution_count": 29,
     "metadata": {},
     "output_type": "execute_result"
    }
   ],
   "source": [
    "a[1:3]"
   ]
  },
  {
   "cell_type": "code",
   "execution_count": 30,
   "id": "caf729bf-118d-4ba9-9cde-a448dc8197a7",
   "metadata": {},
   "outputs": [
    {
     "name": "stdout",
     "output_type": "stream",
     "text": [
      "a는 양수입니다.\n"
     ]
    }
   ],
   "source": [
    "a = 1\n",
    "\n",
    "if a > 0: # 조건문 (True)\n",
    "    print(\"a는 양수입니다.\") # 실행문"
   ]
  },
  {
   "cell_type": "code",
   "execution_count": 31,
   "id": "2cb92c85-b094-4368-a0dd-4a02ae7fd466",
   "metadata": {},
   "outputs": [
    {
     "data": {
      "text/plain": [
       "True"
      ]
     },
     "execution_count": 31,
     "metadata": {},
     "output_type": "execute_result"
    }
   ],
   "source": [
    "a > 0"
   ]
  },
  {
   "cell_type": "code",
   "execution_count": 36,
   "id": "38df1abc-b701-4e68-8188-470b98fa1f91",
   "metadata": {},
   "outputs": [
    {
     "name": "stdout",
     "output_type": "stream",
     "text": [
      "a는 1\n"
     ]
    }
   ],
   "source": [
    "a = 1\n",
    "if a is int(1):\n",
    "    print(\"a는 1\")"
   ]
  },
  {
   "cell_type": "code",
   "execution_count": 37,
   "id": "b8b4763e-1e39-4e95-8e48-c825ba16aeb7",
   "metadata": {},
   "outputs": [],
   "source": [
    "a = 10\n",
    "b = 20\n",
    "l = [10,30,50]"
   ]
  },
  {
   "cell_type": "code",
   "execution_count": 39,
   "id": "f11af644-f8ee-495d-843b-89bbd71aa51a",
   "metadata": {},
   "outputs": [
    {
     "name": "stdout",
     "output_type": "stream",
     "text": [
      "a는 10입니다.\n"
     ]
    }
   ],
   "source": [
    "if a == 10: # True\n",
    "    print(\"a는 10입니다.\")"
   ]
  },
  {
   "cell_type": "code",
   "execution_count": 40,
   "id": "1333501c-bc51-40bb-ab32-ffeb92c5b88f",
   "metadata": {},
   "outputs": [
    {
     "name": "stdout",
     "output_type": "stream",
     "text": [
      "a는 b보다 작습니다.\n"
     ]
    }
   ],
   "source": [
    "if a > b: # False\n",
    "    print(\"a는 b보다 큽니다.\") # 실행 x\n",
    "if a < b: # True\n",
    "    print(\"a는 b보다 작습니다.\") # 실행 o"
   ]
  },
  {
   "cell_type": "code",
   "execution_count": 41,
   "id": "5e89fce6-a9fd-4d73-8ed4-3e30998caed6",
   "metadata": {},
   "outputs": [
    {
     "name": "stdout",
     "output_type": "stream",
     "text": [
      "a는 l 안에 포함된다.\n"
     ]
    }
   ],
   "source": [
    "if a in l:\n",
    "    print(\"a는 l 안에 포함된다.\")"
   ]
  },
  {
   "cell_type": "code",
   "execution_count": 48,
   "id": "c82d975f-7794-4ff6-a3dc-4d5956157042",
   "metadata": {},
   "outputs": [
    {
     "name": "stdout",
     "output_type": "stream",
     "text": [
      "True\n"
     ]
    }
   ],
   "source": [
    "if 100000: # True\n",
    "    print(\"True\")"
   ]
  },
  {
   "cell_type": "code",
   "execution_count": 51,
   "id": "f15d8002-60cf-47b0-ae35-1b377758aaf1",
   "metadata": {},
   "outputs": [
    {
     "name": "stdout",
     "output_type": "stream",
     "text": [
      "a는 10이고 b는 20이다.\n"
     ]
    }
   ],
   "source": [
    "if a == 10 and b == 20: # True\n",
    "    print(\"a는 10이고 b는 20이다.\")"
   ]
  },
  {
   "cell_type": "code",
   "execution_count": 53,
   "id": "a6df65f6-91bc-444b-8d84-6ec378a52994",
   "metadata": {},
   "outputs": [
    {
     "name": "stdout",
     "output_type": "stream",
     "text": [
      "a는 10 이거나 b는 15이다.\n"
     ]
    }
   ],
   "source": [
    "if a == 10 or b == 15: # True\n",
    "    print(\"a는 10 이거나 b는 15이다.\")"
   ]
  },
  {
   "cell_type": "code",
   "execution_count": null,
   "id": "f61fd267-5a66-4b4e-b079-1cca3589e14a",
   "metadata": {},
   "outputs": [],
   "source": [
    "a = 10\n",
    "\n",
    "# a가 음수인지, 양수인지, 0인지 확인하세요.\n",
    "if a < 0:\n",
    "    print(\"a는 음수\")\n",
    "if a > 0:\n",
    "    print(\"a는 양수\")\n",
    "if a == 0:\n",
    "    print(\"a는 0\")\n",
    "\n",
    "if a < 0:\n",
    "    print(\"a는 음수\")\n",
    "elif a > 0:\n",
    "    print(\"a는 양수\")\n",
    "else:\n",
    "    print(\"a는 0\")\n",
    "\n",
    "if a == 0:\n",
    "    print(\"a는 0입니다.\")\n",
    "else:\n",
    "    print(\"a는 0이 아니다.\")"
   ]
  },
  {
   "cell_type": "code",
   "execution_count": 2,
   "id": "32039f51-dca6-470d-929b-647497077058",
   "metadata": {},
   "outputs": [],
   "source": [
    "## 반복문\n",
    "# while\n",
    "# for\n",
    "\n",
    "# while True:\n",
    "#     1\n",
    "    #print(\"반복하자\")\n",
    "# 무한루프"
   ]
  },
  {
   "cell_type": "code",
   "execution_count": 55,
   "id": "04c70657-c955-492e-829c-808df8905041",
   "metadata": {},
   "outputs": [
    {
     "name": "stdout",
     "output_type": "stream",
     "text": [
      "0\n",
      "1\n",
      "2\n",
      "3\n",
      "4\n",
      "5\n",
      "6\n",
      "7\n",
      "8\n",
      "9\n"
     ]
    }
   ],
   "source": [
    "count = 0\n",
    "\n",
    "while count < 10:\n",
    "    print(count)\n",
    "    count += 1 # count = count + 1 "
   ]
  },
  {
   "cell_type": "code",
   "execution_count": 56,
   "id": "2673fad4-f30d-478e-838c-1661fea7a713",
   "metadata": {},
   "outputs": [
    {
     "data": {
      "text/plain": [
       "10"
      ]
     },
     "execution_count": 56,
     "metadata": {},
     "output_type": "execute_result"
    }
   ],
   "source": [
    "count"
   ]
  },
  {
   "cell_type": "code",
   "execution_count": 59,
   "id": "f9d5d7b2-9420-4a9a-bdfe-95698cf4d2af",
   "metadata": {},
   "outputs": [
    {
     "name": "stdout",
     "output_type": "stream",
     "text": [
      "0\n",
      "1\n",
      "2\n",
      "3\n",
      "4\n",
      "5\n",
      "6\n",
      "7\n",
      "8\n",
      "9\n"
     ]
    }
   ],
   "source": [
    "for i in range(0,10):\n",
    "    print(i)"
   ]
  },
  {
   "cell_type": "code",
   "execution_count": 61,
   "id": "dc066345-dc11-408a-b672-d37fdf875464",
   "metadata": {},
   "outputs": [
    {
     "data": {
      "text/plain": [
       "[0, 2, 4, 6, 8]"
      ]
     },
     "execution_count": 61,
     "metadata": {},
     "output_type": "execute_result"
    }
   ],
   "source": [
    "list(range(0,10,2))"
   ]
  },
  {
   "cell_type": "code",
   "execution_count": 60,
   "id": "f9c8faeb-3ca6-4e97-aa96-635f55bb3211",
   "metadata": {},
   "outputs": [
    {
     "name": "stdout",
     "output_type": "stream",
     "text": [
      "0\n",
      "1\n",
      "2\n",
      "3\n",
      "4\n",
      "5\n",
      "6\n",
      "7\n",
      "8\n",
      "9\n"
     ]
    }
   ],
   "source": [
    "for i in [0,1,2,3,4,5,6,7,8,9]:\n",
    "    print(i)"
   ]
  },
  {
   "cell_type": "code",
   "execution_count": 64,
   "id": "b6f7c8b0-c1dd-4d77-95a5-bd45427691b0",
   "metadata": {},
   "outputs": [
    {
     "name": "stdout",
     "output_type": "stream",
     "text": [
      "짱구\n",
      "유리\n",
      "맹구\n",
      "훈이\n"
     ]
    }
   ],
   "source": [
    "for name in [\"짱구\",\"철수\",\"유리\",\"맹구\",\"훈이\"]:\n",
    "    if name == \"철수\":\n",
    "        continue\n",
    "    print(name)"
   ]
  },
  {
   "cell_type": "code",
   "execution_count": 66,
   "id": "d0571e8b-883d-4568-a518-ddf232c51cfc",
   "metadata": {},
   "outputs": [],
   "source": [
    "for i in range(0,5): # 0 1 2 3 4\n",
    "    continue\n",
    "    print(i)"
   ]
  },
  {
   "cell_type": "code",
   "execution_count": 68,
   "id": "611c0fc6-8160-41d5-ad3d-3b425dbe2ac9",
   "metadata": {},
   "outputs": [
    {
     "name": "stdout",
     "output_type": "stream",
     "text": [
      "0\n",
      "1\n"
     ]
    }
   ],
   "source": [
    "for i in range(0,5): # 0 1 2 3 4\n",
    "    if i == 2:\n",
    "        break\n",
    "    print(i)"
   ]
  },
  {
   "cell_type": "code",
   "execution_count": 70,
   "id": "530ab4ba-3ca9-47bb-8614-fe9a40afa7c6",
   "metadata": {},
   "outputs": [],
   "source": [
    "while True:\n",
    "    break\n",
    "    print(\"참입니다.\")"
   ]
  },
  {
   "cell_type": "code",
   "execution_count": 74,
   "id": "cb12e319-a3f1-40b0-b74a-d06416819820",
   "metadata": {},
   "outputs": [
    {
     "name": "stdout",
     "output_type": "stream",
     "text": [
      "i :  0\n",
      "j :  0\n",
      "j :  1\n",
      "j :  2\n",
      "j :  3\n",
      "j :  4\n",
      "i :  1\n",
      "j :  0\n",
      "j :  1\n",
      "j :  2\n",
      "j :  3\n",
      "j :  4\n",
      "i :  2\n",
      "j :  0\n",
      "j :  1\n",
      "j :  2\n",
      "j :  3\n",
      "j :  4\n",
      "i :  3\n",
      "j :  0\n",
      "j :  1\n",
      "j :  2\n",
      "j :  3\n",
      "j :  4\n",
      "i :  4\n",
      "j :  0\n",
      "j :  1\n",
      "j :  2\n",
      "j :  3\n",
      "j :  4\n"
     ]
    }
   ],
   "source": [
    "for i in range(0,5): # 0 1 2 3 4\n",
    "    print(\"i : \",i)\n",
    "    for j in range(0,5): # 0 1 2 3 4\n",
    "        print(\"j : \",j)"
   ]
  },
  {
   "cell_type": "code",
   "execution_count": 75,
   "id": "16a7976f-29e1-43ff-8f1a-a0a69cb80741",
   "metadata": {},
   "outputs": [
    {
     "name": "stdin",
     "output_type": "stream",
     "text": [
      " 나정수\n"
     ]
    },
    {
     "data": {
      "text/plain": [
       "'나정수'"
      ]
     },
     "execution_count": 75,
     "metadata": {},
     "output_type": "execute_result"
    }
   ],
   "source": [
    "input()"
   ]
  },
  {
   "cell_type": "code",
   "execution_count": 76,
   "id": "06b0c29e-7b0a-4dd8-a14a-956f3dc8dfb3",
   "metadata": {},
   "outputs": [
    {
     "name": "stdin",
     "output_type": "stream",
     "text": [
      " 나정수\n"
     ]
    }
   ],
   "source": [
    "name = input()"
   ]
  },
  {
   "cell_type": "code",
   "execution_count": 77,
   "id": "a28f9c11-68a3-488d-b79d-e7994cbe8c7b",
   "metadata": {},
   "outputs": [
    {
     "data": {
      "text/plain": [
       "'나정수'"
      ]
     },
     "execution_count": 77,
     "metadata": {},
     "output_type": "execute_result"
    }
   ],
   "source": [
    "name"
   ]
  },
  {
   "cell_type": "code",
   "execution_count": 78,
   "id": "5da447ac-8075-4a6d-8743-b2e6e33f1732",
   "metadata": {},
   "outputs": [
    {
     "name": "stdin",
     "output_type": "stream",
     "text": [
      "사과는 몇 개? 2\n"
     ]
    }
   ],
   "source": [
    "apple = input(\"사과는 몇 개?\")"
   ]
  },
  {
   "cell_type": "code",
   "execution_count": 79,
   "id": "f2751efe-daed-498c-bda4-5eb14014f98e",
   "metadata": {},
   "outputs": [
    {
     "data": {
      "text/plain": [
       "'2'"
      ]
     },
     "execution_count": 79,
     "metadata": {},
     "output_type": "execute_result"
    }
   ],
   "source": [
    "apple"
   ]
  },
  {
   "cell_type": "code",
   "execution_count": 80,
   "id": "761d2ff6-fe6a-4d6d-a169-05f2faaeab50",
   "metadata": {},
   "outputs": [
    {
     "name": "stdin",
     "output_type": "stream",
     "text": [
      "바나나는 몇 개? 3\n"
     ]
    }
   ],
   "source": [
    "banana = input(\"바나나는 몇 개?\")"
   ]
  },
  {
   "cell_type": "code",
   "execution_count": 81,
   "id": "7733b001-35cf-4f93-bfac-7a6edca874f3",
   "metadata": {},
   "outputs": [
    {
     "data": {
      "text/plain": [
       "'3'"
      ]
     },
     "execution_count": 81,
     "metadata": {},
     "output_type": "execute_result"
    }
   ],
   "source": [
    "banana"
   ]
  },
  {
   "cell_type": "code",
   "execution_count": 82,
   "id": "998130b8-f7b3-4019-9688-930b86964e8d",
   "metadata": {},
   "outputs": [],
   "source": [
    "sum = apple + banana"
   ]
  },
  {
   "cell_type": "code",
   "execution_count": 83,
   "id": "01b1420f-de74-4554-978b-abe70f7c8f9c",
   "metadata": {},
   "outputs": [
    {
     "data": {
      "text/plain": [
       "'23'"
      ]
     },
     "execution_count": 83,
     "metadata": {},
     "output_type": "execute_result"
    }
   ],
   "source": [
    "sum"
   ]
  },
  {
   "cell_type": "code",
   "execution_count": 84,
   "id": "0bc5aa87-1c13-48b0-8c30-c9a015121ddc",
   "metadata": {},
   "outputs": [],
   "source": [
    "sum = int(apple) + int(banana)"
   ]
  },
  {
   "cell_type": "code",
   "execution_count": 85,
   "id": "61668242-c0cc-4bd6-8007-a034d27dd994",
   "metadata": {},
   "outputs": [
    {
     "data": {
      "text/plain": [
       "5"
      ]
     },
     "execution_count": 85,
     "metadata": {},
     "output_type": "execute_result"
    }
   ],
   "source": [
    "sum"
   ]
  },
  {
   "cell_type": "code",
   "execution_count": 86,
   "id": "6c8213f4-1ed2-420b-a4e0-727f889f97dd",
   "metadata": {},
   "outputs": [
    {
     "name": "stdout",
     "output_type": "stream",
     "text": [
      "pen pineapple apple pen\n"
     ]
    }
   ],
   "source": [
    "print(\"pen pineapple apple pen\")"
   ]
  },
  {
   "cell_type": "code",
   "execution_count": 87,
   "id": "1c4fcc25-15a1-48c8-88c5-ec110463d7a9",
   "metadata": {},
   "outputs": [
    {
     "name": "stdout",
     "output_type": "stream",
     "text": [
      "penpineappleapplepen\n"
     ]
    }
   ],
   "source": [
    "print(\"pen\"\"pineapple\"\"apple\"\"pen\")"
   ]
  },
  {
   "cell_type": "code",
   "execution_count": 88,
   "id": "63f7784a-a8c3-4b92-a6e6-7df815abcae2",
   "metadata": {},
   "outputs": [
    {
     "name": "stdout",
     "output_type": "stream",
     "text": [
      "pen pineapple apple pen\n"
     ]
    }
   ],
   "source": [
    "print(\"pen\",\"pineapple\",\"apple\",\"pen\")"
   ]
  },
  {
   "cell_type": "code",
   "execution_count": 89,
   "id": "f8791c97-fc2f-45d8-a170-9b33fec9c788",
   "metadata": {},
   "outputs": [
    {
     "name": "stdout",
     "output_type": "stream",
     "text": [
      "pen 5\n"
     ]
    }
   ],
   "source": [
    "print(\"pen\",5)"
   ]
  },
  {
   "cell_type": "code",
   "execution_count": 90,
   "id": "e80d3cfa-1598-45bd-8366-659c57d8f7a7",
   "metadata": {},
   "outputs": [
    {
     "name": "stdout",
     "output_type": "stream",
     "text": [
      "penpineappleapplepen\n"
     ]
    }
   ],
   "source": [
    "print(\"pen\"+\"pineapple\"+\"apple\"+\"pen\")"
   ]
  },
  {
   "cell_type": "code",
   "execution_count": 91,
   "id": "57c5d32c-3f96-4f69-aad4-994218ed5176",
   "metadata": {
    "collapsed": true,
    "jupyter": {
     "outputs_hidden": true
    }
   },
   "outputs": [
    {
     "ename": "TypeError",
     "evalue": "can only concatenate str (not \"int\") to str",
     "output_type": "error",
     "traceback": [
      "\u001b[1;31m---------------------------------------------------------------------------\u001b[0m",
      "\u001b[1;31mTypeError\u001b[0m                                 Traceback (most recent call last)",
      "Cell \u001b[1;32mIn[91], line 1\u001b[0m\n\u001b[1;32m----> 1\u001b[0m \u001b[38;5;28mprint\u001b[39m(\u001b[38;5;124m\"\u001b[39m\u001b[38;5;124mpen\u001b[39m\u001b[38;5;124m\"\u001b[39m\u001b[38;5;241m+\u001b[39m\u001b[38;5;241m5\u001b[39m)\n",
      "\u001b[1;31mTypeError\u001b[0m: can only concatenate str (not \"int\") to str"
     ]
    }
   ],
   "source": [
    "print(\"pen\"+5) # Error"
   ]
  },
  {
   "cell_type": "code",
   "execution_count": 98,
   "id": "66af815a-4971-4941-aceb-30f867be42c6",
   "metadata": {},
   "outputs": [
    {
     "name": "stdout",
     "output_type": "stream",
     "text": [
      "pen\n",
      "pineapple\t"
     ]
    }
   ],
   "source": [
    "print(\"pen\", end='\\n') # Enter\n",
    "print(\"pineapple\", end='\\t') # Tab"
   ]
  },
  {
   "cell_type": "code",
   "execution_count": 103,
   "id": "50b2cc10-7f5a-420d-892f-ec19f5ea77fb",
   "metadata": {},
   "outputs": [],
   "source": [
    "### 함수를 만들고 실행해보겠습니다.\n",
    "def plus_one(a):\n",
    "    # 함수 내부 기능\n",
    "    result = a + 1\n",
    "    # 반환값(Output)\n",
    "    return result"
   ]
  },
  {
   "cell_type": "code",
   "execution_count": 104,
   "id": "13f65f5a-340e-495b-a1f1-7832cbf13ca6",
   "metadata": {},
   "outputs": [
    {
     "data": {
      "text/plain": [
       "2"
      ]
     },
     "execution_count": 104,
     "metadata": {},
     "output_type": "execute_result"
    }
   ],
   "source": [
    "plus_one(1)"
   ]
  },
  {
   "cell_type": "code",
   "execution_count": 106,
   "id": "5a3198b6-ba66-4620-ab58-3274b1a4aa09",
   "metadata": {},
   "outputs": [],
   "source": [
    "# 입력값과 반환값은 생략이 가능하다.\n",
    "def shouting():\n",
    "    print(\"ah!!!!\")"
   ]
  },
  {
   "cell_type": "code",
   "execution_count": 107,
   "id": "6348a935-73d7-4956-8b0e-52f5202a11a1",
   "metadata": {},
   "outputs": [
    {
     "name": "stdout",
     "output_type": "stream",
     "text": [
      "ah!!!!\n"
     ]
    }
   ],
   "source": [
    "shouting()"
   ]
  },
  {
   "cell_type": "code",
   "execution_count": 117,
   "id": "55515b6e-76e2-4d80-8055-0398319191c9",
   "metadata": {},
   "outputs": [],
   "source": [
    "def count_fruit_1(fruit: str, number: int):\n",
    "    print(\"과일\",fruit+\"는\",number,\"개 입니다.\")"
   ]
  },
  {
   "cell_type": "code",
   "execution_count": 118,
   "id": "5f3a0ae7-074a-4b4e-bb6f-34a1f9fcf720",
   "metadata": {},
   "outputs": [
    {
     "name": "stdout",
     "output_type": "stream",
     "text": [
      "과일 오렌지는 6 개 입니다.\n"
     ]
    }
   ],
   "source": [
    "count_fruit_1(\"오렌지\",6)"
   ]
  },
  {
   "cell_type": "code",
   "execution_count": 119,
   "id": "3ca2e835-97f2-4296-8c79-f6e4ce465cb1",
   "metadata": {},
   "outputs": [],
   "source": [
    "def count_fruit_2(fruit = \"사과\", number = 1):\n",
    "    print(\"과일\",fruit+\"는\",number,\"개 입니다.\")"
   ]
  },
  {
   "cell_type": "code",
   "execution_count": 120,
   "id": "427b25af-4285-44e5-b2b7-6365489fd796",
   "metadata": {},
   "outputs": [
    {
     "name": "stdout",
     "output_type": "stream",
     "text": [
      "과일 사과는 1 개 입니다.\n"
     ]
    }
   ],
   "source": [
    "count_fruit_2()"
   ]
  },
  {
   "cell_type": "code",
   "execution_count": 121,
   "id": "92eccebd-ce5b-4544-b32a-8fac9fc96045",
   "metadata": {},
   "outputs": [
    {
     "name": "stdout",
     "output_type": "stream",
     "text": [
      "과일 수박는 3 개 입니다.\n"
     ]
    }
   ],
   "source": [
    "count_fruit_2(\"수박\",3)"
   ]
  },
  {
   "cell_type": "code",
   "execution_count": 122,
   "id": "a8761fbd-f867-4d4a-a13a-0311f621d786",
   "metadata": {},
   "outputs": [],
   "source": [
    "def count_fruit_3(fruit:str = \"사과\", number:int = 1):\n",
    "    print(\"과일\",fruit+\"는\",number,\"개 입니다.\")"
   ]
  },
  {
   "cell_type": "code",
   "execution_count": 123,
   "id": "a27f1eda-f129-4dd8-9b0d-fc844ed607a4",
   "metadata": {},
   "outputs": [
    {
     "name": "stdout",
     "output_type": "stream",
     "text": [
      "과일 사과는 1 개 입니다.\n"
     ]
    }
   ],
   "source": [
    "count_fruit_3()"
   ]
  },
  {
   "cell_type": "code",
   "execution_count": 130,
   "id": "8bd12b20-c0dd-4670-8b97-3a17e8cfbb5f",
   "metadata": {},
   "outputs": [
    {
     "name": "stdout",
     "output_type": "stream",
     "text": [
      "Hello world\n",
      "Hello world\n"
     ]
    }
   ],
   "source": [
    "print(\"Hello world\", end='\\n') # , end='\\n' 는 Default\n",
    "print(\"Hello world\")"
   ]
  },
  {
   "cell_type": "code",
   "execution_count": 131,
   "id": "975b0e1c-2ba4-476f-901a-7c887b4a8ce3",
   "metadata": {},
   "outputs": [],
   "source": [
    "def summation(a,b):\n",
    "    return a + b"
   ]
  },
  {
   "cell_type": "code",
   "execution_count": 132,
   "id": "432515c2-bd16-419b-9138-c54c8b1e8546",
   "metadata": {},
   "outputs": [
    {
     "data": {
      "text/plain": [
       "3"
      ]
     },
     "execution_count": 132,
     "metadata": {},
     "output_type": "execute_result"
    }
   ],
   "source": [
    "summation(1,2)"
   ]
  },
  {
   "cell_type": "code",
   "execution_count": 133,
   "id": "e5241e0a-f870-4b6e-addf-026a46a7a307",
   "metadata": {},
   "outputs": [],
   "source": [
    "def summation(a,b):\n",
    "    c = a + b\n",
    "    return c"
   ]
  },
  {
   "cell_type": "code",
   "execution_count": 134,
   "id": "9e479006-a04d-4539-b635-4768f4609b73",
   "metadata": {},
   "outputs": [
    {
     "data": {
      "text/plain": [
       "3"
      ]
     },
     "execution_count": 134,
     "metadata": {},
     "output_type": "execute_result"
    }
   ],
   "source": [
    "summation(1,2)"
   ]
  },
  {
   "cell_type": "code",
   "execution_count": 137,
   "id": "a0d0af5a-0cba-4599-9359-9a2dcb30e61d",
   "metadata": {},
   "outputs": [],
   "source": [
    "a = 1\n",
    "\n",
    "def function_1(b):\n",
    "    c = a * b\n",
    "    return c"
   ]
  },
  {
   "cell_type": "code",
   "execution_count": 138,
   "id": "1badaf52-87d8-46f3-8b04-38935095de27",
   "metadata": {},
   "outputs": [
    {
     "data": {
      "text/plain": [
       "4"
      ]
     },
     "execution_count": 138,
     "metadata": {},
     "output_type": "execute_result"
    }
   ],
   "source": [
    "function_1(4)"
   ]
  },
  {
   "cell_type": "code",
   "execution_count": 140,
   "id": "297c74ed-e736-4b79-bc33-49e69bff8d95",
   "metadata": {},
   "outputs": [
    {
     "ename": "NameError",
     "evalue": "name 'c' is not defined",
     "output_type": "error",
     "traceback": [
      "\u001b[1;31m---------------------------------------------------------------------------\u001b[0m",
      "\u001b[1;31mNameError\u001b[0m                                 Traceback (most recent call last)",
      "Cell \u001b[1;32mIn[140], line 1\u001b[0m\n\u001b[1;32m----> 1\u001b[0m \u001b[38;5;28mprint\u001b[39m(c)\n",
      "\u001b[1;31mNameError\u001b[0m: name 'c' is not defined"
     ]
    }
   ],
   "source": []
  }
 ],
 "metadata": {
  "kernelspec": {
   "display_name": "Python 3 (ipykernel)",
   "language": "python",
   "name": "python3"
  },
  "language_info": {
   "codemirror_mode": {
    "name": "ipython",
    "version": 3
   },
   "file_extension": ".py",
   "mimetype": "text/x-python",
   "name": "python",
   "nbconvert_exporter": "python",
   "pygments_lexer": "ipython3",
   "version": "3.12.7"
  }
 },
 "nbformat": 4,
 "nbformat_minor": 5
}
