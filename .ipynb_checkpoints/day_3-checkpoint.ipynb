{
 "cells": [
  {
   "cell_type": "code",
   "execution_count": 1,
   "id": "4d804c69-0fc7-4604-86d6-abefab19e315",
   "metadata": {},
   "outputs": [],
   "source": [
    "# Day 3"
   ]
  },
  {
   "cell_type": "code",
   "execution_count": 20,
   "id": "ea40fb59-dddd-4fbf-aa8b-e01dc8cf8efd",
   "metadata": {},
   "outputs": [],
   "source": [
    "class Count:\n",
    "    def __init__(self):\n",
    "        self.num = 0\n",
    "        self.num = 1\n",
    "        self.name = \"JS\"\n",
    "    def increment(self):\n",
    "        self.num += 1\n",
    "        return self.num"
   ]
  },
  {
   "cell_type": "code",
   "execution_count": 9,
   "id": "f568c4f5-9e5a-464c-a2b1-795fcb1b2602",
   "metadata": {},
   "outputs": [],
   "source": [
    "c = Count()"
   ]
  },
  {
   "cell_type": "code",
   "execution_count": 5,
   "id": "1f7757ee-1e8b-4c3b-a0fd-2ae728b65d59",
   "metadata": {},
   "outputs": [
    {
     "data": {
      "text/plain": [
       "0"
      ]
     },
     "execution_count": 5,
     "metadata": {},
     "output_type": "execute_result"
    }
   ],
   "source": [
    "c.num"
   ]
  },
  {
   "cell_type": "code",
   "execution_count": 10,
   "id": "51956bde-1400-44f5-8998-65484d072818",
   "metadata": {},
   "outputs": [
    {
     "data": {
      "text/plain": [
       "'JS'"
      ]
     },
     "execution_count": 10,
     "metadata": {},
     "output_type": "execute_result"
    }
   ],
   "source": [
    "c.name"
   ]
  },
  {
   "cell_type": "code",
   "execution_count": 16,
   "id": "dfa116ea-ac03-4b99-bc35-5a0cb3f013f6",
   "metadata": {},
   "outputs": [
    {
     "data": {
      "text/plain": [
       "4"
      ]
     },
     "execution_count": 16,
     "metadata": {},
     "output_type": "execute_result"
    }
   ],
   "source": [
    "c.increment()"
   ]
  },
  {
   "cell_type": "code",
   "execution_count": 17,
   "id": "19b3c3b6-19d3-4897-b180-36cc0b004e2d",
   "metadata": {},
   "outputs": [
    {
     "data": {
      "text/plain": [
       "4"
      ]
     },
     "execution_count": 17,
     "metadata": {},
     "output_type": "execute_result"
    }
   ],
   "source": [
    "c.num"
   ]
  },
  {
   "cell_type": "code",
   "execution_count": 18,
   "id": "876822ea-6801-4694-b513-694be3e2ce4e",
   "metadata": {},
   "outputs": [],
   "source": [
    "d = Count()"
   ]
  },
  {
   "cell_type": "code",
   "execution_count": 19,
   "id": "b3a56ba6-a753-4bb4-9766-ca546775a1b4",
   "metadata": {},
   "outputs": [
    {
     "data": {
      "text/plain": [
       "0"
      ]
     },
     "execution_count": 19,
     "metadata": {},
     "output_type": "execute_result"
    }
   ],
   "source": [
    "d.num"
   ]
  },
  {
   "cell_type": "code",
   "execution_count": 21,
   "id": "ed48c6f6-420e-46f0-b9db-0cbe04ecf13c",
   "metadata": {},
   "outputs": [],
   "source": [
    "import os"
   ]
  },
  {
   "cell_type": "code",
   "execution_count": 22,
   "id": "ea192f6a-6525-4256-ae58-5d251234f9dd",
   "metadata": {},
   "outputs": [
    {
     "data": {
      "text/plain": [
       "['.git',\n",
       " '.ipynb_checkpoints',\n",
       " 'ARGV',\n",
       " 'day_1.ipynb',\n",
       " 'day_2.ipynb',\n",
       " 'day_3.ipynb',\n",
       " 'README.md',\n",
       " 'test.py',\n",
       " 'test.txt']"
      ]
     },
     "execution_count": 22,
     "metadata": {},
     "output_type": "execute_result"
    }
   ],
   "source": [
    "os.listdir()"
   ]
  },
  {
   "cell_type": "code",
   "execution_count": 38,
   "id": "b5ac35f8-1bb9-4976-8c20-e293a25f7ceb",
   "metadata": {},
   "outputs": [],
   "source": [
    "a = [1,2,3]"
   ]
  },
  {
   "cell_type": "code",
   "execution_count": 40,
   "id": "e7396afb-56e3-470c-955f-a200689586b9",
   "metadata": {},
   "outputs": [],
   "source": [
    "a.append(4)"
   ]
  },
  {
   "cell_type": "code",
   "execution_count": 41,
   "id": "5b505954-d833-455f-9ba1-080c59a7035d",
   "metadata": {},
   "outputs": [
    {
     "data": {
      "text/plain": [
       "[1, 2, 3, 4]"
      ]
     },
     "execution_count": 41,
     "metadata": {},
     "output_type": "execute_result"
    }
   ],
   "source": [
    "a"
   ]
  },
  {
   "cell_type": "code",
   "execution_count": 42,
   "id": "d052e207-7384-49ff-8178-6e1694793110",
   "metadata": {},
   "outputs": [],
   "source": [
    "a = 1"
   ]
  },
  {
   "cell_type": "code",
   "execution_count": 50,
   "id": "3cc352d3-c7e2-4ede-bb73-2a2717e1e621",
   "metadata": {},
   "outputs": [
    {
     "name": "stdout",
     "output_type": "stream",
     "text": [
      "0\n",
      "1\n",
      "2\n",
      "3\n",
      "4\n"
     ]
    }
   ],
   "source": [
    "for i in range(0,5):\n",
    "    print(i)    "
   ]
  },
  {
   "cell_type": "code",
   "execution_count": 51,
   "id": "4e1f09a6-1891-49d0-872c-2f4e83e8dd92",
   "metadata": {},
   "outputs": [],
   "source": [
    "import os"
   ]
  },
  {
   "cell_type": "code",
   "execution_count": 53,
   "id": "1314a8e4-a858-4186-8c63-902ecddda7e6",
   "metadata": {},
   "outputs": [
    {
     "data": {
      "text/plain": [
       "['main.py', 'test.py', 'test.txt', '__pycache__']"
      ]
     },
     "execution_count": 53,
     "metadata": {},
     "output_type": "execute_result"
    }
   ],
   "source": [
    "os.listdir(\"0621\")"
   ]
  },
  {
   "cell_type": "code",
   "execution_count": 61,
   "id": "7e98305b-5d99-4d1d-8012-87ada5ed895b",
   "metadata": {},
   "outputs": [],
   "source": [
    "f = open(\"0621/test.txt\",\"r\")"
   ]
  },
  {
   "cell_type": "code",
   "execution_count": 62,
   "id": "75c91525-027e-490c-8e1a-d1bd19809241",
   "metadata": {},
   "outputs": [],
   "source": [
    "text = f.read()"
   ]
  },
  {
   "cell_type": "code",
   "execution_count": 63,
   "id": "f3e87b8b-2646-4ca4-a7f9-ca4fed160dd4",
   "metadata": {},
   "outputs": [
    {
     "name": "stdout",
     "output_type": "stream",
     "text": [
      "Hello World!\n"
     ]
    }
   ],
   "source": [
    "print(text)"
   ]
  },
  {
   "cell_type": "code",
   "execution_count": 64,
   "id": "43a78307-d513-41f3-89ec-913ce6e696c0",
   "metadata": {},
   "outputs": [],
   "source": [
    "f.close()"
   ]
  },
  {
   "cell_type": "code",
   "execution_count": 68,
   "id": "bd62a61e-d7a3-45bb-9390-a1d96827b387",
   "metadata": {},
   "outputs": [],
   "source": [
    "f = open(\"0621/test.txt\",\"w\")"
   ]
  },
  {
   "cell_type": "code",
   "execution_count": 69,
   "id": "9fbfeafd-719b-4488-8d08-e85f932c0149",
   "metadata": {},
   "outputs": [],
   "source": [
    "f.write(\"My name is \")\n",
    "f.close()"
   ]
  },
  {
   "cell_type": "code",
   "execution_count": 70,
   "id": "15aa357f-cb3f-43a9-ba35-34b8d228f855",
   "metadata": {},
   "outputs": [],
   "source": [
    "f = open(\"0621/test.txt\",\"a\")"
   ]
  },
  {
   "cell_type": "code",
   "execution_count": 71,
   "id": "f9c9e3ef-c311-4269-9f2d-aac83e061539",
   "metadata": {},
   "outputs": [],
   "source": [
    "f.write(\"JeongSoo Na\")\n",
    "f.close()"
   ]
  },
  {
   "cell_type": "code",
   "execution_count": 72,
   "id": "c3ef36de-8756-4e44-ac30-80f4c5a210d5",
   "metadata": {},
   "outputs": [],
   "source": [
    "# order.txt 다루기"
   ]
  },
  {
   "cell_type": "code",
   "execution_count": 73,
   "id": "61dddabb-3e1b-41ef-90ba-931acf034425",
   "metadata": {},
   "outputs": [
    {
     "name": "stdout",
     "output_type": "stream",
     "text": [
      "id  menu    price\n",
      "1   pizza   10$\n",
      "2   chicken 15$\n",
      "3   hamburger   5$\n"
     ]
    }
   ],
   "source": [
    "f = open(\"0621/order.txt\",\"r\")\n",
    "data = f.read()\n",
    "print(data)"
   ]
  },
  {
   "cell_type": "code",
   "execution_count": 80,
   "id": "717d241b-a358-4b32-ad65-2a8368c9c88e",
   "metadata": {},
   "outputs": [
    {
     "name": "stdout",
     "output_type": "stream",
     "text": [
      "id  menu    price\n",
      "\n",
      "1   pizza   10$\n",
      "\n"
     ]
    }
   ],
   "source": [
    "f = open(\"0621/order.txt\",\"r\")\n",
    "line = f.readline()\n",
    "print(line)\n",
    "line = f.readline()\n",
    "print(line)"
   ]
  },
  {
   "cell_type": "code",
   "execution_count": 84,
   "id": "91d35895-73b4-456f-85ab-6db44fa7ce4b",
   "metadata": {},
   "outputs": [
    {
     "name": "stdout",
     "output_type": "stream",
     "text": [
      "id  menu    price\n",
      "\n",
      "['1   pizza   10$\\n', '2   chicken 15$\\n', '3   hamburger   5$']\n"
     ]
    }
   ],
   "source": [
    "f = open(\"0621/order.txt\",\"r\")\n",
    "lines = f.readlines()\n",
    "header = lines[0]\n",
    "contents = lines[1:]\n",
    "print(header)\n",
    "print(contents)"
   ]
  },
  {
   "cell_type": "code",
   "execution_count": 86,
   "id": "11e91427-919f-40f7-bd67-43a2da4f763c",
   "metadata": {},
   "outputs": [
    {
     "data": {
      "text/plain": [
       "['id  menu    price\\n',\n",
       " '1   pizza   10$\\n',\n",
       " '2   chicken 15$\\n',\n",
       " '3   hamburger   5$']"
      ]
     },
     "execution_count": 86,
     "metadata": {},
     "output_type": "execute_result"
    }
   ],
   "source": [
    "with open(\"0621/order.txt\",\"r\") as f:\n",
    "    lines = f.readlines()\n",
    "\n",
    "lines"
   ]
  },
  {
   "cell_type": "code",
   "execution_count": 96,
   "id": "16e1a77f-7679-431d-87fd-50ef79982822",
   "metadata": {},
   "outputs": [
    {
     "data": {
      "text/plain": [
       "'Hello World      '"
      ]
     },
     "execution_count": 96,
     "metadata": {},
     "output_type": "execute_result"
    }
   ],
   "source": [
    "# 문자열 관련 함수\n",
    "a = \"    Hello World      \"\n",
    "\n",
    "len(a)\n",
    "\n",
    "a.lstrip()\n",
    "\n",
    "\n"
   ]
  },
  {
   "cell_type": "code",
   "execution_count": 103,
   "id": "2eeecfad-5b05-41b5-91a4-ae2297fd7bb0",
   "metadata": {},
   "outputs": [],
   "source": [
    "a = \"Hello World\""
   ]
  },
  {
   "cell_type": "code",
   "execution_count": 104,
   "id": "32511ef1-5dd8-482c-9562-510131cfd062",
   "metadata": {},
   "outputs": [
    {
     "data": {
      "text/plain": [
       "['Hell', ' W', 'rld']"
      ]
     },
     "execution_count": 104,
     "metadata": {},
     "output_type": "execute_result"
    }
   ],
   "source": [
    "a.split(\"o\")"
   ]
  },
  {
   "cell_type": "code",
   "execution_count": 105,
   "id": "57e5eb04-eed6-4f4f-a78c-662f520dfe51",
   "metadata": {},
   "outputs": [
    {
     "data": {
      "text/plain": [
       "'Hi World'"
      ]
     },
     "execution_count": 105,
     "metadata": {},
     "output_type": "execute_result"
    }
   ],
   "source": [
    "a.replace(\"Hello\",\"Hi\")"
   ]
  },
  {
   "cell_type": "code",
   "execution_count": 106,
   "id": "acbfb9b6-6463-46dc-a6c7-72a207d5043e",
   "metadata": {},
   "outputs": [
    {
     "data": {
      "text/plain": [
       "'HELLO WORLD'"
      ]
     },
     "execution_count": 106,
     "metadata": {},
     "output_type": "execute_result"
    }
   ],
   "source": [
    "a.upper()"
   ]
  },
  {
   "cell_type": "code",
   "execution_count": 107,
   "id": "e5a5beeb-7662-4a38-a269-4a0101dbca17",
   "metadata": {},
   "outputs": [
    {
     "data": {
      "text/plain": [
       "'hello world'"
      ]
     },
     "execution_count": 107,
     "metadata": {},
     "output_type": "execute_result"
    }
   ],
   "source": [
    "a.lower()"
   ]
  },
  {
   "cell_type": "code",
   "execution_count": 109,
   "id": "c3ccac16-c486-43a4-8e21-d4817ad790b3",
   "metadata": {},
   "outputs": [
    {
     "data": {
      "text/plain": [
       "False"
      ]
     },
     "execution_count": 109,
     "metadata": {},
     "output_type": "execute_result"
    }
   ],
   "source": [
    "a.startswith(\"Hi\")"
   ]
  },
  {
   "cell_type": "code",
   "execution_count": 113,
   "id": "1fd92a11-3a4b-4477-a880-0317402cfe72",
   "metadata": {},
   "outputs": [
    {
     "data": {
      "text/plain": [
       "True"
      ]
     },
     "execution_count": 113,
     "metadata": {},
     "output_type": "execute_result"
    }
   ],
   "source": [
    "a.endswith(\"d\")"
   ]
  },
  {
   "cell_type": "code",
   "execution_count": 116,
   "id": "3eddf5ee-f7a9-42e4-92f5-3afead02fa9f",
   "metadata": {},
   "outputs": [
    {
     "data": {
      "text/plain": [
       "-1"
      ]
     },
     "execution_count": 116,
     "metadata": {},
     "output_type": "execute_result"
    }
   ],
   "source": [
    "# Hello World\n",
    "a.find(\"z\")"
   ]
  },
  {
   "cell_type": "code",
   "execution_count": 121,
   "id": "ebb08bb9-5165-4c4b-b25d-762701e012ac",
   "metadata": {},
   "outputs": [
    {
     "name": "stdout",
     "output_type": "stream",
     "text": [
      "pizza\n"
     ]
    }
   ],
   "source": [
    "f = open(\"0621/order.txt\",\"r\")\n",
    "data = f.readlines()\n",
    "print(data[1].split()[1])\n"
   ]
  },
  {
   "cell_type": "code",
   "execution_count": 138,
   "id": "1e502576-0c1d-4ae3-ae6c-8ea0e2dff888",
   "metadata": {},
   "outputs": [
    {
     "name": "stdout",
     "output_type": "stream",
     "text": [
      "평균은  79.0 입니다.\n"
     ]
    }
   ],
   "source": [
    "f = open(\"0621/data.txt\",\"r\",encoding=\"utf-8\")\n",
    "data = f.readlines()\n",
    "# print(data)\n",
    "\n",
    "# 평균 계산\n",
    "total = 0\n",
    "for line in data:\n",
    "    score = line.split()[1]\n",
    "    if score == \"점수\":\n",
    "        continue\n",
    "    # print(score)\n",
    "    total += int(score)\n",
    "\n",
    "# print(total / (len(data)-1))\n",
    "avg = total / (len(data)-1)\n",
    "print(\"평균은 \",avg,\"입니다.\")"
   ]
  },
  {
   "cell_type": "code",
   "execution_count": 139,
   "id": "adb06d6d-faa5-4b36-aff3-0c27258ec2e3",
   "metadata": {},
   "outputs": [],
   "source": [
    "import time"
   ]
  },
  {
   "cell_type": "code",
   "execution_count": 166,
   "id": "6540d1c5-90f0-4de0-af9a-8b3f3661891e",
   "metadata": {},
   "outputs": [
    {
     "data": {
      "text/plain": [
       "1750484666.7347624"
      ]
     },
     "execution_count": 166,
     "metadata": {},
     "output_type": "execute_result"
    }
   ],
   "source": [
    "# 1970.01.01 00:00\n",
    "time.time()"
   ]
  },
  {
   "cell_type": "code",
   "execution_count": 167,
   "id": "0b995f75-0f77-4109-b126-e4845716acb4",
   "metadata": {},
   "outputs": [],
   "source": [
    "import datetime"
   ]
  },
  {
   "cell_type": "code",
   "execution_count": 168,
   "id": "c47a8749-7684-46bb-bbc3-3da407908882",
   "metadata": {},
   "outputs": [
    {
     "data": {
      "text/plain": [
       "datetime.datetime(2025, 6, 21, 14, 45, 57, 134294)"
      ]
     },
     "execution_count": 168,
     "metadata": {},
     "output_type": "execute_result"
    }
   ],
   "source": [
    "datetime.datetime.now()"
   ]
  },
  {
   "cell_type": "code",
   "execution_count": 169,
   "id": "ce787cec-3147-4dc3-894d-779b9f7c7866",
   "metadata": {},
   "outputs": [],
   "source": [
    "import os"
   ]
  },
  {
   "cell_type": "code",
   "execution_count": 170,
   "id": "dd9eff97-725e-48d2-9c1f-9416dcbf38ae",
   "metadata": {},
   "outputs": [
    {
     "data": {
      "text/plain": [
       "'nt'"
      ]
     },
     "execution_count": 170,
     "metadata": {},
     "output_type": "execute_result"
    }
   ],
   "source": [
    "os.name"
   ]
  },
  {
   "cell_type": "code",
   "execution_count": 171,
   "id": "df2cd6fe-3650-4844-99fa-1e4faff51d49",
   "metadata": {},
   "outputs": [
    {
     "data": {
      "text/plain": [
       "'C:\\\\Users\\\\admin\\\\Desktop\\\\JS\\\\Edu_python'"
      ]
     },
     "execution_count": 171,
     "metadata": {},
     "output_type": "execute_result"
    }
   ],
   "source": [
    "os.getcwd()"
   ]
  },
  {
   "cell_type": "code",
   "execution_count": 177,
   "id": "6a9a322e-c5b0-44d4-bba5-b8025908fde0",
   "metadata": {},
   "outputs": [
    {
     "data": {
      "text/plain": [
       "['.git',\n",
       " '.ipynb_checkpoints',\n",
       " '0621',\n",
       " 'ARGV',\n",
       " 'day_1.ipynb',\n",
       " 'day_2.ipynb',\n",
       " 'day_3.ipynb',\n",
       " 'README.md',\n",
       " 'test.py']"
      ]
     },
     "execution_count": 177,
     "metadata": {},
     "output_type": "execute_result"
    }
   ],
   "source": [
    "os.listdir()"
   ]
  },
  {
   "cell_type": "code",
   "execution_count": 176,
   "id": "31cf3db9-4c14-4041-8cb9-52dc151c1307",
   "metadata": {},
   "outputs": [],
   "source": [
    "os.remove(\"test.txt\")"
   ]
  },
  {
   "cell_type": "code",
   "execution_count": 179,
   "id": "46bab8d2-4833-4ca2-a319-48b7dab3dd4a",
   "metadata": {},
   "outputs": [
    {
     "data": {
      "text/plain": [
       "False"
      ]
     },
     "execution_count": 179,
     "metadata": {},
     "output_type": "execute_result"
    }
   ],
   "source": [
    "os.path.exists(\"0622\")"
   ]
  },
  {
   "cell_type": "code",
   "execution_count": 181,
   "id": "5b6691da-7134-4b06-a105-de896d6c36e1",
   "metadata": {},
   "outputs": [
    {
     "data": {
      "text/plain": [
       "0"
      ]
     },
     "execution_count": 181,
     "metadata": {},
     "output_type": "execute_result"
    }
   ],
   "source": [
    "os.system(\"echo Hello\")"
   ]
  },
  {
   "cell_type": "code",
   "execution_count": 182,
   "id": "e0f5c221-a776-445a-aeee-a6ba3ae07440",
   "metadata": {},
   "outputs": [
    {
     "data": {
      "text/plain": [
       "'win32'"
      ]
     },
     "execution_count": 182,
     "metadata": {},
     "output_type": "execute_result"
    }
   ],
   "source": [
    "import sys\n",
    "sys.platform"
   ]
  },
  {
   "cell_type": "code",
   "execution_count": 195,
   "id": "59694733-9f37-475b-a823-207a35419037",
   "metadata": {},
   "outputs": [
    {
     "name": "stdout",
     "output_type": "stream",
     "text": [
      "C:\\Users\\admin\\Desktop\\JS\\Edu_python\n"
     ]
    },
    {
     "data": {
      "text/plain": [
       "[]"
      ]
     },
     "execution_count": 195,
     "metadata": {},
     "output_type": "execute_result"
    }
   ],
   "source": [
    "import glob\n",
    "a = os.getcwd()\n",
    "print(a)\n",
    "glob.glob(\"C/Users/admin/Desktop/JS/Edu_python\")"
   ]
  },
  {
   "cell_type": "code",
   "execution_count": 197,
   "id": "5d44e6e4-b7e0-45e4-8f47-31fc9e22eb99",
   "metadata": {},
   "outputs": [],
   "source": [
    "import numpy as np"
   ]
  },
  {
   "cell_type": "code",
   "execution_count": 201,
   "id": "1d2b9203-8b93-4482-bcd2-f3b95c9cb925",
   "metadata": {},
   "outputs": [],
   "source": [
    "# 1차원 배열\n",
    "a1 = np.array([1,2,3])\n",
    "\n",
    "# 2차원 배열\n",
    "a2 = np.array([[1,2,3],[4,5,6]])\n",
    "\n",
    "# 3차원 배열\n",
    "a3 = np.array([[[1,2],[3,4]],[[5,6],[7,8]]])"
   ]
  },
  {
   "cell_type": "code",
   "execution_count": 199,
   "id": "058ecf88-0acd-4358-b2e4-ab5a9e703575",
   "metadata": {},
   "outputs": [
    {
     "name": "stdout",
     "output_type": "stream",
     "text": [
      "[1 2 3]\n",
      "[[1 2 3]\n",
      " [4 5 6]]\n",
      "[[[1 2]\n",
      "  [3 4]]\n",
      "\n",
      " [[5 6]\n",
      "  [7 8]]]\n"
     ]
    }
   ],
   "source": [
    "print(a1)\n",
    "print(a2)\n",
    "print(a3)"
   ]
  },
  {
   "cell_type": "code",
   "execution_count": 203,
   "id": "f5370d24-32f0-4497-8ac4-32e45de53e16",
   "metadata": {},
   "outputs": [
    {
     "data": {
      "text/plain": [
       "(3,)"
      ]
     },
     "execution_count": 203,
     "metadata": {},
     "output_type": "execute_result"
    }
   ],
   "source": [
    "a1.shape"
   ]
  },
  {
   "cell_type": "code",
   "execution_count": 204,
   "id": "165477ef-7ee0-46bb-978d-e21cf5249bf2",
   "metadata": {},
   "outputs": [
    {
     "data": {
      "text/plain": [
       "(2, 3)"
      ]
     },
     "execution_count": 204,
     "metadata": {},
     "output_type": "execute_result"
    }
   ],
   "source": [
    "a2.shape"
   ]
  },
  {
   "cell_type": "code",
   "execution_count": 205,
   "id": "66130262-a1a5-46b7-884b-fb9dc14dfd92",
   "metadata": {},
   "outputs": [],
   "source": [
    "a = np.array([1,2,3])\n",
    "b = np.array([4,5,6])"
   ]
  },
  {
   "cell_type": "code",
   "execution_count": 208,
   "id": "3eae2948-de6e-428e-a8c0-a41cf287caa6",
   "metadata": {},
   "outputs": [
    {
     "data": {
      "text/plain": [
       "array([2, 3, 4])"
      ]
     },
     "execution_count": 208,
     "metadata": {},
     "output_type": "execute_result"
    }
   ],
   "source": [
    "a+1"
   ]
  },
  {
   "cell_type": "code",
   "execution_count": 213,
   "id": "e96284b3-7d76-4a26-a45e-fcfe2a7f9155",
   "metadata": {},
   "outputs": [],
   "source": [
    "a = np.array([[1,2],[3,4]])\n",
    "b = np.array([[1,2],[3,4]])"
   ]
  },
  {
   "cell_type": "code",
   "execution_count": 214,
   "id": "7929c0c9-6457-4355-b946-3981936b678b",
   "metadata": {},
   "outputs": [
    {
     "data": {
      "text/plain": [
       "array([[ 1,  4],\n",
       "       [ 9, 16]])"
      ]
     },
     "execution_count": 214,
     "metadata": {},
     "output_type": "execute_result"
    }
   ],
   "source": [
    "a*b"
   ]
  },
  {
   "cell_type": "code",
   "execution_count": 215,
   "id": "d2b21fb0-374d-4636-9734-fab4bd0210ec",
   "metadata": {},
   "outputs": [],
   "source": [
    "a = np.array([1,2,3])"
   ]
  },
  {
   "cell_type": "code",
   "execution_count": 221,
   "id": "14c57c03-cc39-48c5-aafb-af7336724604",
   "metadata": {},
   "outputs": [
    {
     "data": {
      "text/plain": [
       "2.0"
      ]
     },
     "execution_count": 221,
     "metadata": {},
     "output_type": "execute_result"
    }
   ],
   "source": [
    "np.median(a)"
   ]
  },
  {
   "cell_type": "code",
   "execution_count": 225,
   "id": "7dc0b229-0c1b-4123-89a8-aeebce3ef749",
   "metadata": {},
   "outputs": [],
   "source": [
    "a = np.array([[1,2,3],[4,5,6]])"
   ]
  },
  {
   "cell_type": "code",
   "execution_count": 228,
   "id": "12f5d962-c51d-4e33-95ad-61e827f72f7b",
   "metadata": {},
   "outputs": [
    {
     "data": {
      "text/plain": [
       "array([2., 5.])"
      ]
     },
     "execution_count": 228,
     "metadata": {},
     "output_type": "execute_result"
    }
   ],
   "source": [
    "np.mean(a,axis=1)"
   ]
  },
  {
   "cell_type": "code",
   "execution_count": 229,
   "id": "6774c069-986d-4d93-84e4-1c6c0a645a82",
   "metadata": {},
   "outputs": [
    {
     "data": {
      "text/plain": [
       "array([2.5, 3.5, 4.5])"
      ]
     },
     "execution_count": 229,
     "metadata": {},
     "output_type": "execute_result"
    }
   ],
   "source": [
    "np.mean(a,axis=0)"
   ]
  },
  {
   "cell_type": "code",
   "execution_count": 230,
   "id": "62d7d070-a7d4-4b34-82eb-d3fdd5a94e10",
   "metadata": {},
   "outputs": [],
   "source": [
    "a = np.array([1, 2, 3, 4, 5])"
   ]
  },
  {
   "cell_type": "code",
   "execution_count": 231,
   "id": "7651b89d-d19e-4886-ac40-ba677c4c1b4f",
   "metadata": {},
   "outputs": [
    {
     "data": {
      "text/plain": [
       "1"
      ]
     },
     "execution_count": 231,
     "metadata": {},
     "output_type": "execute_result"
    }
   ],
   "source": [
    "a[0]"
   ]
  },
  {
   "cell_type": "code",
   "execution_count": 232,
   "id": "344f45b0-e7a5-4cba-ac3c-26026da356fc",
   "metadata": {},
   "outputs": [],
   "source": [
    "a = np.array([[1,2,3],[4,5,6]])"
   ]
  },
  {
   "cell_type": "code",
   "execution_count": 233,
   "id": "2cece67d-c50c-44e6-a01f-6c7158ef3ec2",
   "metadata": {},
   "outputs": [
    {
     "data": {
      "text/plain": [
       "array([1, 2, 3])"
      ]
     },
     "execution_count": 233,
     "metadata": {},
     "output_type": "execute_result"
    }
   ],
   "source": [
    "a[0]"
   ]
  },
  {
   "cell_type": "code",
   "execution_count": 234,
   "id": "a4f91cae-69a9-486b-80a6-ac638db60e94",
   "metadata": {},
   "outputs": [
    {
     "data": {
      "text/plain": [
       "1"
      ]
     },
     "execution_count": 234,
     "metadata": {},
     "output_type": "execute_result"
    }
   ],
   "source": [
    "a[0][0]"
   ]
  },
  {
   "cell_type": "code",
   "execution_count": 235,
   "id": "17eba1f0-1a23-4397-a55b-94560bef9235",
   "metadata": {},
   "outputs": [
    {
     "data": {
      "text/plain": [
       "5"
      ]
     },
     "execution_count": 235,
     "metadata": {},
     "output_type": "execute_result"
    }
   ],
   "source": [
    "a[1][1]"
   ]
  },
  {
   "cell_type": "code",
   "execution_count": 237,
   "id": "8848d0a5-640a-4dcc-b0d7-89fc8d299384",
   "metadata": {},
   "outputs": [],
   "source": [
    "a = np.array([[1, 2], [3, 4], [5, 6]])"
   ]
  },
  {
   "cell_type": "code",
   "execution_count": 238,
   "id": "aac4e101-555e-4fd4-a87d-f518e1dc4dcf",
   "metadata": {},
   "outputs": [
    {
     "data": {
      "text/plain": [
       "array([[1, 2],\n",
       "       [3, 4],\n",
       "       [5, 6]])"
      ]
     },
     "execution_count": 238,
     "metadata": {},
     "output_type": "execute_result"
    }
   ],
   "source": [
    "a"
   ]
  },
  {
   "cell_type": "code",
   "execution_count": 239,
   "id": "7294bea9-3c9c-48bb-84c5-8d83c8861beb",
   "metadata": {},
   "outputs": [
    {
     "data": {
      "text/plain": [
       "array([[1, 2, 3],\n",
       "       [4, 5, 6]])"
      ]
     },
     "execution_count": 239,
     "metadata": {},
     "output_type": "execute_result"
    }
   ],
   "source": [
    "a.reshape((2, 3))"
   ]
  },
  {
   "cell_type": "code",
   "execution_count": 240,
   "id": "9e59959a-ce55-45f7-a3e3-c74652dff55b",
   "metadata": {},
   "outputs": [
    {
     "data": {
      "text/plain": [
       "array([[1, 3, 5],\n",
       "       [2, 4, 6]])"
      ]
     },
     "execution_count": 240,
     "metadata": {},
     "output_type": "execute_result"
    }
   ],
   "source": [
    "a.T"
   ]
  },
  {
   "cell_type": "code",
   "execution_count": 242,
   "id": "47a3b6b1-f24e-45b2-b421-f8d3d78afe4b",
   "metadata": {},
   "outputs": [
    {
     "data": {
      "text/plain": [
       "array([[1, 2],\n",
       "       [3, 4],\n",
       "       [5, 6]])"
      ]
     },
     "execution_count": 242,
     "metadata": {},
     "output_type": "execute_result"
    }
   ],
   "source": [
    "a"
   ]
  },
  {
   "cell_type": "code",
   "execution_count": 252,
   "id": "af4de512-bb5a-4a7b-8d4c-0cc15a24ea3b",
   "metadata": {},
   "outputs": [],
   "source": [
    "a = np.array([1, 2, 3])\n",
    "b = np.array([4, 5, 6])"
   ]
  },
  {
   "cell_type": "code",
   "execution_count": 253,
   "id": "bf2a7ac5-b125-4073-9162-4d674366d33b",
   "metadata": {},
   "outputs": [
    {
     "data": {
      "text/plain": [
       "array([1, 2, 3, 4, 5, 6])"
      ]
     },
     "execution_count": 253,
     "metadata": {},
     "output_type": "execute_result"
    }
   ],
   "source": [
    "np.concatenate((a,b))"
   ]
  },
  {
   "cell_type": "code",
   "execution_count": 254,
   "id": "6f4c87be-a16a-4469-9c1d-44846ffbc981",
   "metadata": {},
   "outputs": [
    {
     "data": {
      "text/plain": [
       "array([1, 2, 3, 4, 5, 6])"
      ]
     },
     "execution_count": 254,
     "metadata": {},
     "output_type": "execute_result"
    }
   ],
   "source": [
    "np.concatenate((a,b),axis=0)"
   ]
  },
  {
   "cell_type": "code",
   "execution_count": 263,
   "id": "41d4769d-8736-48a9-9a3b-19f08fef2a02",
   "metadata": {},
   "outputs": [],
   "source": [
    "a = np.array([[1, 2], [3, 4]])\n",
    "b = np.array([[5, 6]])"
   ]
  },
  {
   "cell_type": "code",
   "execution_count": 264,
   "id": "cf05cd54-c088-4ca3-a9d9-34e7d8a35447",
   "metadata": {},
   "outputs": [
    {
     "data": {
      "text/plain": [
       "array([[1, 2],\n",
       "       [3, 4],\n",
       "       [5, 6]])"
      ]
     },
     "execution_count": 264,
     "metadata": {},
     "output_type": "execute_result"
    }
   ],
   "source": [
    "np.concatenate((a,b),axis=0)"
   ]
  },
  {
   "cell_type": "code",
   "execution_count": 265,
   "id": "f617f00b-7385-417e-87fe-0a5b2e9e7e68",
   "metadata": {},
   "outputs": [],
   "source": [
    "a = np.array([1, 2, 3, 4, 5, 6])"
   ]
  },
  {
   "cell_type": "code",
   "execution_count": 270,
   "id": "f4e1f439-4069-47ae-9b0a-1b7ea8b4cee0",
   "metadata": {},
   "outputs": [],
   "source": [
    "b, c = np.split(a, [3])"
   ]
  },
  {
   "cell_type": "code",
   "execution_count": 268,
   "id": "0d5b79df-2ea9-4041-af4e-5c624befee22",
   "metadata": {},
   "outputs": [
    {
     "name": "stdout",
     "output_type": "stream",
     "text": [
      "[1 2 3]\n",
      "[4 5 6]\n"
     ]
    }
   ],
   "source": [
    "print(b)\n",
    "print(c)"
   ]
  }
 ],
 "metadata": {
  "kernelspec": {
   "display_name": "Python 3 (ipykernel)",
   "language": "python",
   "name": "python3"
  },
  "language_info": {
   "codemirror_mode": {
    "name": "ipython",
    "version": 3
   },
   "file_extension": ".py",
   "mimetype": "text/x-python",
   "name": "python",
   "nbconvert_exporter": "python",
   "pygments_lexer": "ipython3",
   "version": "3.12.7"
  }
 },
 "nbformat": 4,
 "nbformat_minor": 5
}
